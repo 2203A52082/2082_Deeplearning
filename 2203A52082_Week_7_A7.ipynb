{
  "nbformat": 4,
  "nbformat_minor": 0,
  "metadata": {
    "colab": {
      "provenance": [],
      "authorship_tag": "ABX9TyMCQpWztzOg5CSeO+iIo7/I",
      "include_colab_link": true
    },
    "kernelspec": {
      "name": "python3",
      "display_name": "Python 3"
    },
    "language_info": {
      "name": "python"
    }
  },
  "cells": [
    {
      "cell_type": "markdown",
      "metadata": {
        "id": "view-in-github",
        "colab_type": "text"
      },
      "source": [
        "<a href=\"https://colab.research.google.com/github/2203A52082/2082_Deeplearning/blob/main/2203A52082_Week_7_A7.ipynb\" target=\"_parent\"><img src=\"https://colab.research.google.com/assets/colab-badge.svg\" alt=\"Open In Colab\"/></a>"
      ]
    },
    {
      "cell_type": "code",
      "source": [
        "import pandas as pd\n",
        "import numpy as np\n",
        "\n",
        "# Load the dataset\n",
        "file_path = \"/content/Load Data in kW.xlsx\"\n",
        "df = pd.read_excel(file_path, sheet_name=0)\n",
        "\n",
        "def preprocess_data(df):\n",
        "    df.columns = ['Load']  # Naming the column\n",
        "    df['Prev_Week_Load'] = df['Load'].shift(168)  # Assuming hourly data with 168-hour (7-day) shift\n",
        "    df.dropna(inplace=True)  # Remove rows with NaN values\n",
        "    return df\n",
        "\n",
        "df = preprocess_data(df)\n",
        "\n",
        "# Normalize the data\n",
        "def normalize_data(df):\n",
        "    df = (df - df.min()) / (df.max() - df.min())\n",
        "    return df\n",
        "\n",
        "df = normalize_data(df)\n",
        "\n",
        "# Split data into train and test (90:10)\n",
        "train_size = int(0.9 * len(df))\n",
        "train_data = df[:train_size]\n",
        "test_data = df[train_size:]\n",
        "\n",
        "# Extract features and targets\n",
        "X_train = train_data['Prev_Week_Load'].values\n",
        "y_train = train_data['Load'].values\n",
        "X_test = test_data['Prev_Week_Load'].values\n",
        "y_test = test_data['Load'].values\n",
        "\n",
        "# Initialize parameters\n",
        "m, c = 1, -1  # Given initial values\n",
        "eta = 0.1  # Learning rate\n",
        "epochs = 100  # Number of epochs\n",
        "gm_sq, gc_sq = 0, 0  # Accumulators for AdaGrad\n",
        "\n",
        "def compute_gradients(X, y, m, c):\n",
        "    error = y - (m * X + c)\n",
        "    gm = -np.mean(error * X)\n",
        "    gc = -np.mean(error)\n",
        "    return gm, gc\n",
        "\n",
        "# Training using AdaGrad optimizer\n",
        "for epoch in range(epochs):\n",
        "    gm, gc = compute_gradients(X_train, y_train, m, c)\n",
        "    gm_sq += gm ** 2\n",
        "    gc_sq += gc ** 2\n",
        "    m -= (eta / (np.sqrt(gm_sq) + 1e-8)) * gm\n",
        "    c -= (eta / (np.sqrt(gc_sq) + 1e-8)) * gc\n",
        "\n",
        "# Prediction function\n",
        "def predict(X, m, c):\n",
        "    return m * X + c\n",
        "\n",
        "# Compute error metrics\n",
        "def compute_metrics(y_true, y_pred):\n",
        "    mse = np.mean((y_true - y_pred) ** 2)\n",
        "    rmse = np.sqrt(mse)\n",
        "    mae = np.mean(np.abs(y_true - y_pred))\n",
        "    return mse, rmse, mae\n",
        "\n",
        "# Evaluate on train data\n",
        "y_train_pred = predict(X_train, m, c)\n",
        "mse_train, rmse_train, mae_train = compute_metrics(y_train, y_train_pred)\n",
        "\n",
        "# Evaluate on test data\n",
        "y_test_pred = predict(X_test, m, c)\n",
        "mse_test, rmse_test, mae_test = compute_metrics(y_test, y_test_pred)\n",
        "\n",
        "# Print metrics\n",
        "print(\"Training Data: MSE =\", mse_train, \"RMSE =\", rmse_train, \"MAE =\", mae_train)\n",
        "print(\"Test Data: MSE =\", mse_test, \"RMSE =\", rmse_test, \"MAE =\", mae_test)"
      ],
      "metadata": {
        "colab": {
          "base_uri": "https://localhost:8080/"
        },
        "id": "Se9v40KSVLMO",
        "outputId": "6ca5dab2-a6ec-4cfe-be2f-9742bb8be27f"
      },
      "execution_count": 8,
      "outputs": [
        {
          "output_type": "stream",
          "name": "stdout",
          "text": [
            "Training Data: MSE = 0.002212639630020053 RMSE = 0.047038703532517274 MAE = 0.02910035309907448\n",
            "Test Data: MSE = 0.0007375332084534883 RMSE = 0.027157562638305526 MAE = 0.027133057921442383\n"
          ]
        }
      ]
    }
  ]
}